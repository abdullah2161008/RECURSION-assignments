{
 "cells": [
  {
   "cell_type": "markdown",
   "id": "29903c71",
   "metadata": {},
   "source": [
    "Q.1 Can you explain the logic and working of the Tower of Hanoi algorithm by writing a Python program?\n",
    "How does the recursion work, and how are the movements of disks between rods accomplished?"
   ]
  },
  {
   "cell_type": "code",
   "execution_count": 1,
   "id": "d205638a",
   "metadata": {},
   "outputs": [
    {
     "name": "stdout",
     "output_type": "stream",
     "text": [
      "Move disk from 1 from A to C\n",
      "Move disk from 2 from A to B\n",
      "Move disk from 1 from C to B\n",
      "Move disk from 3 from A to C\n",
      "Move disk from 1 from B to A\n",
      "Move disk from 2 from B to C\n",
      "Move disk from 1 from A to C\n"
     ]
    }
   ],
   "source": [
    "def tower_of_hanoi(n,source,target,auxiliary):\n",
    "    if n==0:\n",
    "        return \n",
    "    tower_of_hanoi(n-1,source,auxiliary,target)\n",
    "    print(f\"Move disk from {n} from {source} to {target}\")\n",
    "    tower_of_hanoi(n-1,auxiliary,target,source)\n",
    "tower_of_hanoi(3,\"A\",\"C\",\"B\")"
   ]
  },
  {
   "cell_type": "code",
   "execution_count": null,
   "id": "c0efad44",
   "metadata": {},
   "outputs": [],
   "source": []
  },
  {
   "cell_type": "markdown",
   "id": "33cc8e3a",
   "metadata": {},
   "source": [
    "Q.2 Given two strings word1 and word2, return the minimum number of operations required to convert word1\n",
    "to word2."
   ]
  },
  {
   "cell_type": "code",
   "execution_count": 2,
   "id": "7d6cf217",
   "metadata": {},
   "outputs": [
    {
     "name": "stdout",
     "output_type": "stream",
     "text": [
      "3\n"
     ]
    }
   ],
   "source": [
    "def min_distance(word1, word2):\n",
    "    return min_distance_helper(word1, word2, len(word1), len(word2))\n",
    "\n",
    "def min_distance_helper(word1, word2, m, n):\n",
    "    if m == 0:\n",
    "        return n\n",
    "    if n == 0:\n",
    "        return m\n",
    "    if word1[m - 1] == word2[n - 1]:\n",
    "        return min_distance_helper(word1, word2, m - 1, n - 1)\n",
    "\n",
    "    return 1 + min(\n",
    "        min_distance_helper(word1, word2, m, n - 1), \n",
    "        min_distance_helper(word1, word2, m - 1, n),  \n",
    "        min_distance_helper(word1, word2, m - 1, n - 1) \n",
    "    )\n",
    "\n",
    "word1 = \"horse\"\n",
    "word2 = \"ros\"\n",
    "result = min_distance(word1, word2)\n",
    "print(result)\n"
   ]
  },
  {
   "cell_type": "code",
   "execution_count": null,
   "id": "7a59d980",
   "metadata": {},
   "outputs": [],
   "source": []
  },
  {
   "cell_type": "markdown",
   "id": "662cabda",
   "metadata": {},
   "source": [
    "Q. 3 Print the max value of the array [ 13, 1, -3, 22, 5]."
   ]
  },
  {
   "cell_type": "code",
   "execution_count": 3,
   "id": "b90622cf",
   "metadata": {},
   "outputs": [
    {
     "name": "stdout",
     "output_type": "stream",
     "text": [
      "99\n"
     ]
    }
   ],
   "source": [
    "#without using max function\n",
    "def find_max_value(arr):\n",
    "    if not arr:\n",
    "        return None\n",
    "    max_value=arr[0]\n",
    "    for num in arr[1:]:\n",
    "        if num>max_value:\n",
    "            max_value=num\n",
    "    return max_value\n",
    "arr=[10,20,30,40,50,60,99]\n",
    "print(find_max_value(arr))"
   ]
  },
  {
   "cell_type": "code",
   "execution_count": null,
   "id": "9aa2502a",
   "metadata": {},
   "outputs": [],
   "source": []
  },
  {
   "cell_type": "markdown",
   "id": "18d98116",
   "metadata": {},
   "source": [
    "Q.4 Find the sum of the values of the array [92, 23, 15, -20, 10]."
   ]
  },
  {
   "cell_type": "code",
   "execution_count": 4,
   "id": "78a4413e",
   "metadata": {},
   "outputs": [
    {
     "name": "stdout",
     "output_type": "stream",
     "text": [
      "45\n"
     ]
    }
   ],
   "source": [
    "def sum_of_array(arr):\n",
    "    sum=0\n",
    "    for num in arr:\n",
    "        sum+=num\n",
    "    return sum\n",
    "print(sum_of_array([1,2,3,4,5,6,7,8,9]))"
   ]
  },
  {
   "cell_type": "code",
   "execution_count": null,
   "id": "87debf24",
   "metadata": {},
   "outputs": [],
   "source": []
  },
  {
   "cell_type": "markdown",
   "id": "936d1e10",
   "metadata": {},
   "source": [
    "Q.5 Given a number n. Print if it is an armstrong number or not.An armstrong number is a number if the sum\n",
    "of every digit in that number raised to the power of total digits in that number is equal to the number."
   ]
  },
  {
   "cell_type": "code",
   "execution_count": 1,
   "id": "9c5cd550",
   "metadata": {},
   "outputs": [
    {
     "name": "stdout",
     "output_type": "stream",
     "text": [
      "Enter a number: 134\n",
      "Output: No\n"
     ]
    }
   ],
   "source": [
    "def is_armstrong_number(n):\n",
    "    num_str = str(n)\n",
    "    num_digits = len(num_str)\n",
    "\n",
    "    armstrong_sum = sum(int(digit) ** num_digits for digit in num_str)\n",
    "\n",
    "    if armstrong_sum == n:\n",
    "        return \"Yes\"\n",
    "    else:\n",
    "        return \"No\"\n",
    "\n",
    "input_number = int(input(\"Enter a number: \"))\n",
    "result = is_armstrong_number(input_number)\n",
    "print(\"Output:\", result)\n"
   ]
  },
  {
   "cell_type": "code",
   "execution_count": null,
   "id": "8862e18b",
   "metadata": {},
   "outputs": [],
   "source": []
  }
 ],
 "metadata": {
  "kernelspec": {
   "display_name": "Python 3 (ipykernel)",
   "language": "python",
   "name": "python3"
  },
  "language_info": {
   "codemirror_mode": {
    "name": "ipython",
    "version": 3
   },
   "file_extension": ".py",
   "mimetype": "text/x-python",
   "name": "python",
   "nbconvert_exporter": "python",
   "pygments_lexer": "ipython3",
   "version": "3.10.9"
  }
 },
 "nbformat": 4,
 "nbformat_minor": 5
}
